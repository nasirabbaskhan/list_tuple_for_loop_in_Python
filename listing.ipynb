{
 "cells": [
  {
   "cell_type": "markdown",
   "metadata": {},
   "source": [
    "# List\n",
    " * iteration operation with loop\n",
    " * apply any operation on element"
   ]
  },
  {
   "cell_type": "code",
   "execution_count": 1,
   "metadata": {},
   "outputs": [
    {
     "name": "stdout",
     "output_type": "stream",
     "text": [
      "['Nasir', 'Sir Zia', 'Qasim']\n"
     ]
    }
   ],
   "source": [
    "names:list[str] = [\"Nasir\", \"Sir Zia\", \"Qasim\"]\n",
    "print(names)"
   ]
  },
  {
   "cell_type": "code",
   "execution_count": 2,
   "metadata": {},
   "outputs": [
    {
     "name": "stdout",
     "output_type": "stream",
     "text": [
      "Nasir\n",
      "Sir Zia\n",
      "Qasim\n"
     ]
    }
   ],
   "source": [
    "names:list[str] = [\"Nasir\", \"Sir Zia\", \"Qasim\"]\n",
    "for i in names:\n",
    "    print(i)"
   ]
  },
  {
   "cell_type": "code",
   "execution_count": 3,
   "metadata": {},
   "outputs": [
    {
     "name": "stdout",
     "output_type": "stream",
     "text": [
      "Nasir\n",
      "Sir Zia\n",
      "Qasim\n"
     ]
    }
   ],
   "source": [
    "names:list[str] = [\"Nasir\", \"Sir Zia\", \"Qasim\"]\n",
    "for name in names:\n",
    "    print(name)"
   ]
  },
  {
   "cell_type": "code",
   "execution_count": 5,
   "metadata": {},
   "outputs": [
    {
     "name": "stdout",
     "output_type": "stream",
     "text": [
      "Wellcome Dear Teacher Sir Qasim\n",
      "Wellcome Dear Teacher Sir Zia\n",
      "Wellcome Dear Teacher Dr Noman\n"
     ]
    }
   ],
   "source": [
    "names:list[str] = [\"sir Qasim\", \"Sir Zia\", \"Dr noman\"]\n",
    "for name in names:\n",
    "    print(f'Wellcome Dear Teacher {name.title()}')"
   ]
  },
  {
   "cell_type": "code",
   "execution_count": 9,
   "metadata": {},
   "outputs": [
    {
     "name": "stdout",
     "output_type": "stream",
     "text": [
      "Wellcome Dear Teacher Sir Qasim\n",
      "PIAIC GEN AI TEAM\n",
      "\n",
      "Wellcome Dear Teacher Sir Zia\n",
      "PIAIC GEN AI TEAM\n",
      "\n",
      "Wellcome Dear Teacher Dr Noman\n",
      "PIAIC GEN AI TEAM\n",
      "\n"
     ]
    }
   ],
   "source": [
    "names:list[str] = [\"sir Qasim\", \"Sir Zia\", \"Dr noman\"]\n",
    "for name in names:\n",
    "    print(f'Wellcome Dear Teacher {name.title()}')\n",
    "    print(\"PIAIC GEN AI TEAM\\n\")"
   ]
  },
  {
   "cell_type": "code",
   "execution_count": 10,
   "metadata": {},
   "outputs": [
    {
     "name": "stdout",
     "output_type": "stream",
     "text": [
      "Wellcome Dear Teacher Sir Qasim\n",
      "PIAIC GEN AI TEAM\n",
      "\n",
      "Wellcome Dear Teacher Sir Zia\n",
      "PIAIC GEN AI TEAM\n",
      "\n",
      "Wellcome Dear Teacher Dr Noman\n",
      "PIAIC GEN AI TEAM\n",
      "\n",
      "pakistan zindabad\n"
     ]
    }
   ],
   "source": [
    "names:list[str] = [\"sir Qasim\", \"Sir Zia\", \"Dr noman\"]\n",
    "for name in names:\n",
    "    print(f'Wellcome Dear Teacher {name.title()}')\n",
    "    print(\"PIAIC GEN AI TEAM\\n\")\n",
    "    \n",
    "print(\"pakistan zindabad\")"
   ]
  },
  {
   "cell_type": "code",
   "execution_count": 13,
   "metadata": {},
   "outputs": [
    {
     "name": "stdout",
     "output_type": "stream",
     "text": [
      "Wellcome Dear Teacher Sir Qasim\n",
      "PIAIC GEN AI TEAM\n",
      "\n",
      "Wellcome Dear Teacher Sir Zia\n",
      "PIAIC GEN AI TEAM\n",
      "\n"
     ]
    }
   ],
   "source": [
    "names:list[str] = [\"sir Qasim\", \"Sir Zia\", \"Dr noman\"]\n",
    "for name in names[0:2]:\n",
    "    print(f'Wellcome Dear Teacher {name.title()}')\n",
    "    print(\"PIAIC GEN AI TEAM\\n\")"
   ]
  },
  {
   "cell_type": "code",
   "execution_count": 14,
   "metadata": {},
   "outputs": [
    {
     "name": "stdout",
     "output_type": "stream",
     "text": [
      "Wellcome Dear Teacher Dr Noman\n",
      "PIAIC GEN AI TEAM\n",
      "\n",
      "Wellcome Dear Teacher Sir Zia\n",
      "PIAIC GEN AI TEAM\n",
      "\n",
      "Wellcome Dear Teacher Sir Qasim\n",
      "PIAIC GEN AI TEAM\n",
      "\n"
     ]
    }
   ],
   "source": [
    "names:list[str] = [\"sir Qasim\", \"Sir Zia\", \"Dr noman\"]\n",
    "for name in names[::-1]:\n",
    "    print(f'Wellcome Dear Teacher {name.title()}')\n",
    "    print(\"PIAIC GEN AI TEAM\\n\")"
   ]
  },
  {
   "cell_type": "code",
   "execution_count": 31,
   "metadata": {},
   "outputs": [
    {
     "name": "stdout",
     "output_type": "stream",
     "text": [
      "['pizza', 'falafel', 'carrot cake']\n",
      "['pizza', 'falafel', 'carrot cake']\n",
      "['pizza', 'falafel', 'carrot cake']\n",
      "['Tikka', 'falafel', 'carrot cake']\n"
     ]
    }
   ],
   "source": [
    "my_food= [\"pizza\",\"falafel\",\"carrot cake\"]\n",
    "friend_food= my_food[:] # deep copy\n",
    "print(my_food)\n",
    "print(friend_food)\n",
    "friend_food[0]= \"Tikka\"\n",
    "print(my_food)\n",
    "print(friend_food)"
   ]
  },
  {
   "cell_type": "code",
   "execution_count": 15,
   "metadata": {},
   "outputs": [
    {
     "name": "stdout",
     "output_type": "stream",
     "text": [
      "('qasim', '123')\n",
      "('nasir', '345')\n",
      "('ikhlas', '567')\n",
      "('nadeem', '897')\n"
     ]
    }
   ],
   "source": [
    "data_base:list[tuple[str,str]]= [(\"qasim\",\"123\"),\n",
    "                                 (\"nasir\",\"345\"),\n",
    "                                 (\"ikhlas\",\"567\"),\n",
    "                                 (\"nadeem\",\"897\")]\n",
    "for i in data_base:\n",
    "    print(i)"
   ]
  },
  {
   "cell_type": "code",
   "execution_count": null,
   "metadata": {},
   "outputs": [
    {
     "name": "stdout",
     "output_type": "stream",
     "text": [
      "qasim 123\n",
      "nasir 345\n",
      "ikhlas 567\n",
      "nadeem 897\n"
     ]
    }
   ],
   "source": [
    "data_base:list[tuple[str,str]]= [(\"qasim\",\"123\"),\n",
    "                                 (\"nasir\",\"345\"),\n",
    "                                 (\"ikhlas\",\"567\"),\n",
    "                                 (\"nadeem\",\"899\")]\n",
    "for user in data_base:\n",
    "    name,possward= user # unzip or destructure\n",
    "    print(name,possward)"
   ]
  },
  {
   "cell_type": "code",
   "execution_count": 1,
   "metadata": {},
   "outputs": [
    {
     "name": "stdout",
     "output_type": "stream",
     "text": [
      "nasir\n"
     ]
    }
   ],
   "source": [
    "user_input:str = input(\"Enter Your Name:\") #get user input\n",
    "print(user_input)"
   ]
  },
  {
   "cell_type": "code",
   "execution_count": 17,
   "metadata": {},
   "outputs": [
    {
     "name": "stdout",
     "output_type": "stream",
     "text": [
      "not found\n"
     ]
    }
   ],
   "source": [
    "data_base:list[tuple[str,str]]= [(\"qasim\",\"123\"),\n",
    "                                 (\"nasir\",\"345\"),\n",
    "                                 (\"ikhlas\",\"567\"),\n",
    "                                 (\"nadeem\",\"899\")]\n",
    "input_name:str = input(\"Enter Your Name:\")\n",
    "input_password:str = input(\"Enter Your password:\")\n",
    "for user in data_base:\n",
    "    name,possward= user # unzip or destructure\n",
    "    if input_name== name and input_password==possward:\n",
    "        print(\"Valid user\")\n",
    "        break    \n",
    "else:\n",
    "    print(\"not found\")\n",
    "\n",
    "        \n"
   ]
  },
  {
   "cell_type": "code",
   "execution_count": 2,
   "metadata": {},
   "outputs": [
    {
     "name": "stdout",
     "output_type": "stream",
     "text": [
      "nasir is Valid user\n"
     ]
    }
   ],
   "source": [
    "data_base:list[tuple[str,str]]= [(\"qasim\",\"123\"),\n",
    "                                 (\"nasir\",\"345\"),\n",
    "                                 (\"ikhlas\",\"567\"),\n",
    "                                 (\"nadeem\",\"899\")]\n",
    "input_name:str = input(\"Enter Your Name:\")\n",
    "input_password:str = input(\"Enter Your password:\")\n",
    "for user in data_base:\n",
    "    name,possward= user # unzip or destructure\n",
    "    if input_name== name and input_password==possward:\n",
    "        print(f\"{input_name} is Valid user\")\n",
    "        break    \n",
    "else:\n",
    "    print(f\"{input_name} is invalid user\")"
   ]
  },
  {
   "cell_type": "code",
   "execution_count": 17,
   "metadata": {},
   "outputs": [
    {
     "name": "stdout",
     "output_type": "stream",
     "text": [
      "nasir\n",
      "asdad\n",
      "aneela\n"
     ]
    }
   ],
   "source": [
    "names:list[str]= [\"nasir\",\"asdad\",\"aneela\"]\n",
    "for name in names:\n",
    "    print(name)"
   ]
  },
  {
   "cell_type": "code",
   "execution_count": 18,
   "metadata": {},
   "outputs": [
    {
     "name": "stdout",
     "output_type": "stream",
     "text": [
      "0 nasir\n",
      "1 asdad\n",
      "2 aneela\n"
     ]
    }
   ],
   "source": [
    "names:list[str]= [\"nasir\",\"asdad\",\"aneela\"]\n",
    "for index, name in enumerate(names):\n",
    "    print(index,name)"
   ]
  },
  {
   "cell_type": "markdown",
   "metadata": {},
   "source": [
    "# Number with loop\n",
    " * `reange(start, end,step)`"
   ]
  },
  {
   "cell_type": "code",
   "execution_count": 3,
   "metadata": {},
   "outputs": [
    {
     "data": {
      "text/plain": [
       "range(0, 10)"
      ]
     },
     "execution_count": 3,
     "metadata": {},
     "output_type": "execute_result"
    }
   ],
   "source": [
    "range(10)"
   ]
  },
  {
   "cell_type": "code",
   "execution_count": 7,
   "metadata": {},
   "outputs": [
    {
     "data": {
      "text/plain": [
       "[0, 1, 2, 3, 4, 5, 6, 7, 8, 9]"
      ]
     },
     "execution_count": 7,
     "metadata": {},
     "output_type": "execute_result"
    }
   ],
   "source": [
    "list(range(10)) # start= 0 end- n-1"
   ]
  },
  {
   "cell_type": "code",
   "execution_count": 5,
   "metadata": {},
   "outputs": [
    {
     "data": {
      "text/plain": [
       "[2, 3, 4, 5, 6, 7, 8, 9]"
      ]
     },
     "execution_count": 5,
     "metadata": {},
     "output_type": "execute_result"
    }
   ],
   "source": [
    "list(range(2,10)) "
   ]
  },
  {
   "cell_type": "code",
   "execution_count": 6,
   "metadata": {},
   "outputs": [
    {
     "data": {
      "text/plain": [
       "[2, 4, 6, 8]"
      ]
     },
     "execution_count": 6,
     "metadata": {},
     "output_type": "execute_result"
    }
   ],
   "source": [
    "list(range(2,10,2))"
   ]
  },
  {
   "cell_type": "code",
   "execution_count": 9,
   "metadata": {},
   "outputs": [
    {
     "name": "stdout",
     "output_type": "stream",
     "text": [
      "1\n",
      "2\n",
      "3\n",
      "4\n",
      "5\n",
      "6\n",
      "7\n",
      "8\n",
      "9\n"
     ]
    }
   ],
   "source": [
    "for n in range(1,10):\n",
    "    print(n)"
   ]
  },
  {
   "cell_type": "code",
   "execution_count": 12,
   "metadata": {},
   "outputs": [
    {
     "name": "stdout",
     "output_type": "stream",
     "text": [
      "1\n",
      "3\n",
      "5\n",
      "7\n",
      "9\n",
      "11\n",
      "13\n",
      "15\n",
      "17\n",
      "19\n"
     ]
    }
   ],
   "source": [
    "for n in range(1,20,2):\n",
    "    print(n)"
   ]
  },
  {
   "cell_type": "code",
   "execution_count": 16,
   "metadata": {},
   "outputs": [
    {
     "name": "stdout",
     "output_type": "stream",
     "text": [
      "5 x 1 = 5\n",
      "5 x 2 = 10\n",
      "5 x 3 = 15\n",
      "5 x 4 = 20\n",
      "5 x 5 = 25\n",
      "5 x 6 = 30\n",
      "5 x 7 = 35\n",
      "5 x 8 = 40\n",
      "5 x 9 = 45\n",
      "5 x 10 = 50\n"
     ]
    }
   ],
   "source": [
    "table = 5\n",
    "\n",
    "for n in range(1,11):\n",
    "    print(f\"{table} x {n} = {table*n}\")"
   ]
  },
  {
   "cell_type": "code",
   "execution_count": 25,
   "metadata": {},
   "outputs": [
    {
     "name": "stdout",
     "output_type": "stream",
     "text": [
      "[1, 4, 9, 16, 25, 36, 49, 64, 81, 100]\n"
     ]
    }
   ],
   "source": [
    "squares :list[int] = []\n",
    "for value in range(1,11):\n",
    "    square = value ** 2\n",
    "    squares.append(square)\n",
    "    \n",
    "print(squares)"
   ]
  },
  {
   "cell_type": "code",
   "execution_count": 29,
   "metadata": {},
   "outputs": [
    {
     "name": "stdout",
     "output_type": "stream",
     "text": [
      "[0, 1, 2, 3, 4, 5, 6, 7, 8, 9]\n",
      "9\n",
      "0\n",
      "45\n"
     ]
    }
   ],
   "source": [
    "number:list[int] = [0,1,2,3,4,5,6,7,8,9]\n",
    "print(number)\n",
    "print(max(number))\n",
    "print(min(number))\n",
    "print(sum(number))"
   ]
  },
  {
   "cell_type": "markdown",
   "metadata": {},
   "source": [
    "# List Comprehensive\n",
    "```\n",
    "\n",
    "for item in items_lis:\n",
    "\n",
    "loop_body\n",
    "\n",
    "```\n",
    "\n",
    "### comprehensive Style\n",
    "```\n",
    "[loop_body for item in items_lis]\n",
    "\n",
    "```"
   ]
  },
  {
   "cell_type": "code",
   "execution_count": 26,
   "metadata": {},
   "outputs": [
    {
     "name": "stdout",
     "output_type": "stream",
     "text": [
      "1\n",
      "4\n",
      "9\n",
      "16\n",
      "25\n",
      "36\n"
     ]
    }
   ],
   "source": [
    "for i in range(1,7):\n",
    "    print(i**2)"
   ]
  },
  {
   "cell_type": "code",
   "execution_count": 28,
   "metadata": {},
   "outputs": [
    {
     "data": {
      "text/plain": [
       "[1, 4, 9, 16, 25, 36]"
      ]
     },
     "execution_count": 28,
     "metadata": {},
     "output_type": "execute_result"
    }
   ],
   "source": [
    "[i**2 for i in range(1,7)] # list comprehensive\n"
   ]
  },
  {
   "cell_type": "markdown",
   "metadata": {},
   "source": [
    "# Tupples\n",
    " * immutable ( can not change)\n",
    " * can not update"
   ]
  },
  {
   "cell_type": "code",
   "execution_count": 33,
   "metadata": {},
   "outputs": [
    {
     "name": "stdout",
     "output_type": "stream",
     "text": [
      "A\n",
      "('A', 'B')\n"
     ]
    }
   ],
   "source": [
    "names:tuple[str] = (\"A\", \"B\", \"C\")\n",
    "print(names[0])\n",
    "print(names[0:2])"
   ]
  },
  {
   "cell_type": "code",
   "execution_count": 35,
   "metadata": {},
   "outputs": [
    {
     "ename": "TypeError",
     "evalue": "'tuple' object does not support item assignment",
     "output_type": "error",
     "traceback": [
      "\u001b[1;31m---------------------------------------------------------------------------\u001b[0m",
      "\u001b[1;31mTypeError\u001b[0m                                 Traceback (most recent call last)",
      "Cell \u001b[1;32mIn[35], line 2\u001b[0m\n\u001b[0;32m      1\u001b[0m names:\u001b[38;5;28mtuple\u001b[39m[\u001b[38;5;28mstr\u001b[39m] \u001b[38;5;241m=\u001b[39m (\u001b[38;5;124m\"\u001b[39m\u001b[38;5;124mA\u001b[39m\u001b[38;5;124m\"\u001b[39m, \u001b[38;5;124m\"\u001b[39m\u001b[38;5;124mB\u001b[39m\u001b[38;5;124m\"\u001b[39m, \u001b[38;5;124m\"\u001b[39m\u001b[38;5;124mC\u001b[39m\u001b[38;5;124m\"\u001b[39m)\n\u001b[1;32m----> 2\u001b[0m \u001b[43mnames\u001b[49m\u001b[43m[\u001b[49m\u001b[38;5;241;43m0\u001b[39;49m\u001b[43m]\u001b[49m\u001b[38;5;241m=\u001b[39m\u001b[38;5;124m\"\u001b[39m\u001b[38;5;124mpakistan\u001b[39m\u001b[38;5;124m\"\u001b[39m \u001b[38;5;66;03m# can not be update\u001b[39;00m\n\u001b[0;32m      3\u001b[0m \u001b[38;5;28mprint\u001b[39m(names[\u001b[38;5;241m0\u001b[39m])\n\u001b[0;32m      4\u001b[0m \u001b[38;5;28mprint\u001b[39m(names[\u001b[38;5;241m0\u001b[39m:\u001b[38;5;241m2\u001b[39m])\n",
      "\u001b[1;31mTypeError\u001b[0m: 'tuple' object does not support item assignment"
     ]
    }
   ],
   "source": [
    "names:tuple[str] = (\"A\", \"B\", \"C\")\n",
    "names[0]=\"pakistan\" # can not be update\n",
    "print(names[0])\n",
    "print(names[0:2])"
   ]
  },
  {
   "cell_type": "code",
   "execution_count": 36,
   "metadata": {},
   "outputs": [
    {
     "name": "stdout",
     "output_type": "stream",
     "text": [
      "('pakistan', 'B', 'C')\n"
     ]
    }
   ],
   "source": [
    "names:tuple[str] = (\"A\", \"B\", \"C\")\n",
    "names:tuple[str] = (\"pakistan\", \"B\", \"C\") # it is reassign not update\n",
    "print(names)\n"
   ]
  },
  {
   "cell_type": "code",
   "execution_count": 37,
   "metadata": {},
   "outputs": [
    {
     "name": "stdout",
     "output_type": "stream",
     "text": [
      "('A', [1, 2, 3], True)\n"
     ]
    }
   ],
   "source": [
    "from typing import Any\n",
    "data:tuple[Any] = (\"A\", [1,2,3], True)\n",
    "print(data)"
   ]
  },
  {
   "cell_type": "code",
   "execution_count": 39,
   "metadata": {},
   "outputs": [
    {
     "name": "stdout",
     "output_type": "stream",
     "text": [
      "[1, 2, 3]\n",
      "('A', [1, 2, 3, 20], True)\n"
     ]
    }
   ],
   "source": [
    "data:tuple[Any] = (\"A\", [1,2,3], True)\n",
    "print(data[1])\n",
    "data[1].append(20)\n",
    "print(data)"
   ]
  }
 ],
 "metadata": {
  "kernelspec": {
   "display_name": "Python 3",
   "language": "python",
   "name": "python3"
  },
  "language_info": {
   "codemirror_mode": {
    "name": "ipython",
    "version": 3
   },
   "file_extension": ".py",
   "mimetype": "text/x-python",
   "name": "python",
   "nbconvert_exporter": "python",
   "pygments_lexer": "ipython3",
   "version": "3.12.3"
  }
 },
 "nbformat": 4,
 "nbformat_minor": 2
}
